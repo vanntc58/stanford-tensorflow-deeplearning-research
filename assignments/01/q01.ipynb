{
 "cells": [
  {
   "cell_type": "code",
   "execution_count": 1,
   "metadata": {},
   "outputs": [],
   "source": [
    "import os\n",
    "os.environ['TF_CPP_MIN_LOG_LEVEL']='2'\n",
    "\n",
    "import tensorflow as tf"
   ]
  },
  {
   "cell_type": "code",
   "execution_count": 2,
   "metadata": {},
   "outputs": [
    {
     "name": "stdout",
     "output_type": "stream",
     "text": [
      "x= 0.471451\n",
      "y= 0.943321\n",
      "-0.26547\n"
     ]
    }
   ],
   "source": [
    "sess = tf.InteractiveSession()\n",
    "###############################################################################\n",
    "# 1a: Create two random 0-d tensors x and y of any distribution.\n",
    "# Create a TensorFlow object that returns x + y if x > y, and x - y otherwise.\n",
    "# Hint: look up tf.cond()\n",
    "# I do the first problem for you\n",
    "###############################################################################\n",
    "\n",
    "x = tf.random_uniform([]) \n",
    "y = tf.random_uniform([])\n",
    "out = tf.cond(tf.greater(x,y), lambda: tf.add(x,y), lambda: tf.subtract(x,y))\n",
    "print ('x=', sess.run(x))\n",
    "print ('y=', sess.run(y))\n",
    "print(sess.run(out))"
   ]
  },
  {
   "cell_type": "code",
   "execution_count": 3,
   "metadata": {},
   "outputs": [
    {
     "name": "stdout",
     "output_type": "stream",
     "text": [
      "0.931075\n",
      "-0.659994\n",
      "1.6352\n"
     ]
    }
   ],
   "source": [
    "###############################################################################\n",
    "# 1b: Create two 0-d tensors x and y randomly selected from the range [-1, 1).\n",
    "# Return x + y if x < y, x - y if x > y, 0 otherwise.\n",
    "# Hint: Look up tf.case().\n",
    "###############################################################################\n",
    "\n",
    "x = tf.random_uniform([], minval=-1, maxval=1, dtype=tf.float32)\n",
    "y = tf.random_uniform([], minval=-1, maxval=1, dtype=tf.float32)\n",
    "print(sess.run(x))\n",
    "print(sess.run(y))\n",
    "\n",
    "out = tf.case({tf.less(x, y): lambda: tf.add(x, y), \n",
    "               tf.greater(x, y): lambda: tf.subtract(x, y)},\n",
    "              default=lambda: tf.constant(0.0), exclusive=True)\n",
    "sess = tf.InteractiveSession()\n",
    "print(sess.run(out))"
   ]
  },
  {
   "cell_type": "code",
   "execution_count": 4,
   "metadata": {},
   "outputs": [
    {
     "name": "stdout",
     "output_type": "stream",
     "text": [
      "[[ 0 -2 -1]\n",
      " [ 0  1  2]]\n",
      "[[0 0 0]\n",
      " [0 0 0]]\n",
      "[[ True False False]\n",
      " [ True False False]]\n"
     ]
    }
   ],
   "source": [
    "##############################################################################\n",
    "# 1c: Create the tensor x of the value [[0, -2, -1], [0, 1, 2]] \n",
    "# and y as a tensor of zeros with the same shape as x.\n",
    "# Return a boolean tensor that yields Trues if x equals y element-wise.\n",
    "# Hint: Look up tf.equal().\n",
    "###############################################################################\n",
    "\n",
    "x = tf.constant([[0, -2, -1], [0, 1, 2]])\n",
    "print(sess.run(x))\n",
    "y = tf.zeros_like(x)\n",
    "print(sess.run(y))\n",
    "out = tf.equal(x, y)\n",
    "print(sess.run(out))"
   ]
  },
  {
   "cell_type": "code",
   "execution_count": 5,
   "metadata": {},
   "outputs": [
    {
     "name": "stdout",
     "output_type": "stream",
     "text": [
      "[ 29.05088806  27.61298943  31.19073486  29.35532951  30.97266006\n",
      "  26.67541885  38.08450317  20.74983215  34.94445419  34.45999146\n",
      "  29.06485367  36.01657104  27.88236427  20.56035233  30.20379066\n",
      "  29.51215172  33.71149445  28.59134293  36.05556488  28.66994858]\n",
      "[[ 31.19073486]\n",
      " [ 30.97266006]\n",
      " [ 38.08450317]\n",
      " [ 34.94445419]\n",
      " [ 34.45999146]\n",
      " [ 36.01657104]\n",
      " [ 30.20379066]\n",
      " [ 33.71149445]\n",
      " [ 36.05556488]]\n"
     ]
    }
   ],
   "source": [
    "###############################################################################\n",
    "# 1d: Create the tensor x of value \n",
    "# [29.05088806,  27.61298943,  31.19073486,  29.35532951,\n",
    "#  30.97266006,  26.67541885,  38.08450317,  20.74983215,\n",
    "#  34.94445419,  34.45999146,  29.06485367,  36.01657104,\n",
    "#  27.88236427,  20.56035233,  30.20379066,  29.51215172,\n",
    "#  33.71149445,  28.59134293,  36.05556488,  28.66994858].\n",
    "# Get the indices of elements in x whose values are greater than 30.\n",
    "# Hint: Use tf.where().\n",
    "# Then extract elements whose values are greater than 30.\n",
    "# Hint: Use tf.gather().\n",
    "###############################################################################\n",
    "x = tf.constant([29.05088806,  27.61298943,  31.19073486,  29.35532951,\n",
    "                 30.97266006,  26.67541885,  38.08450317,  20.74983215,\n",
    "                 34.94445419,  34.45999146,  29.06485367,  36.01657104,\n",
    "                 27.88236427,  20.56035233,  30.20379066,  29.51215172,\n",
    "                 33.71149445,  28.59134293,  36.05556488,  28.66994858])\n",
    "print(sess.run(x))\n",
    "indices = tf.where(x>30)\n",
    "out = tf.gather(x, indices)\n",
    "print(sess.run(out))"
   ]
  },
  {
   "cell_type": "code",
   "execution_count": 6,
   "metadata": {},
   "outputs": [
    {
     "name": "stdout",
     "output_type": "stream",
     "text": [
      "[[1 0 0 0 0 0]\n",
      " [0 2 0 0 0 0]\n",
      " [0 0 3 0 0 0]\n",
      " [0 0 0 4 0 0]\n",
      " [0 0 0 0 5 0]\n",
      " [0 0 0 0 0 6]]\n"
     ]
    }
   ],
   "source": [
    "###############################################################################\n",
    "# 1e: Create a diagnoal 2-d tensor of size 6 x 6 with the diagonal values of 1,\n",
    "# 2, ..., 6\n",
    "# Hint: Use tf.range() and tf.diag().\n",
    "###############################################################################\n",
    "out = tf.diag(tf.range(1,7))\n",
    "print(sess.run(out))"
   ]
  },
  {
   "cell_type": "code",
   "execution_count": 7,
   "metadata": {},
   "outputs": [
    {
     "name": "stdout",
     "output_type": "stream",
     "text": [
      "[[  9.72965145   9.7093277   10.62124538   9.02892208  10.07095814\n",
      "   10.66601562  10.38462257   9.33609581   9.96628857   8.68644524]\n",
      " [ 10.57400608  10.10367393  11.00842285   9.73651505  10.57184219\n",
      "   11.49061298  11.09778786   8.74654579  10.34562016   9.84796143]\n",
      " [ 11.0514431   10.41993999  12.14727497   9.16931343  10.39657879\n",
      "   10.24847031   9.21901035  10.9651947    7.68309069  11.139575  ]\n",
      " [ 11.01603889   8.02983379   9.47463512   8.93791771   9.87714195\n",
      "    8.53229713  10.83100891   8.95640755  10.39154148  11.49610519]\n",
      " [ 10.31473637   7.9414587   11.48801041   9.97298813   9.48463535\n",
      "   10.38898754  10.29345608   9.46201897  12.21740437  10.17730904]\n",
      " [  8.99314404   9.62834644   9.71775436   9.93022537   8.92694473\n",
      "   11.65139866   8.50200939  10.17599869   9.76196003  10.05492687]\n",
      " [  8.6574707   11.68047523   9.42784405  10.86350822  10.05910587\n",
      "    9.64007664  10.8433876   10.3379097    8.89284897   9.7027092 ]\n",
      " [  8.73630905   9.72544098  10.38897896   9.60347843  10.30144024\n",
      "    9.20862389  10.70838928   8.2797575   10.09823799   8.78455734]\n",
      " [ 10.50514984   9.71364975  10.32810593  11.19489288   9.86735439\n",
      "   10.99381542   9.9311409   12.33138466   9.36385345  10.02036667]\n",
      " [ 11.32690811   9.4681263    9.75859356  10.93264389  10.41748524\n",
      "    9.7256918   10.70987701  10.09468746  11.36558437  11.04711819]]\n",
      "43295.4\n"
     ]
    }
   ],
   "source": [
    "###############################################################################\n",
    "# 1f: Create a random 2-d tensor of size 10 x 10 from any distribution.\n",
    "# Calculate its determinant.\n",
    "# Hint: Look at tf.matrix_determinant().\n",
    "###############################################################################\n",
    "x = tf.random_normal([10,10], mean = 10, stddev=1)\n",
    "print(sess.run(x))\n",
    "out = tf.matrix_determinant(x)\n",
    "print(sess.run(out))"
   ]
  },
  {
   "cell_type": "code",
   "execution_count": 8,
   "metadata": {},
   "outputs": [
    {
     "name": "stdout",
     "output_type": "stream",
     "text": [
      "[ 5  2  3  5 10  6  2  3  4  2  1  1  0  9]\n",
      "[ 5  2  3 10  6  4  1  0  9]\n"
     ]
    }
   ],
   "source": [
    "###############################################################################\n",
    "# 1g: Create tensor x with value [5, 2, 3, 5, 10, 6, 2, 3, 4, 2, 1, 1, 0, 9].\n",
    "# Return the unique elements in x\n",
    "# Hint: use tf.unique(). Keep in mind that tf.unique() returns a tuple.\n",
    "###############################################################################\n",
    "x = tf.constant([5, 2, 3, 5, 10, 6, 2, 3, 4, 2, 1, 1, 0, 9])\n",
    "print(sess.run(x))\n",
    "unique, idx = tf.unique(x)\n",
    "print(sess.run(unique))"
   ]
  },
  {
   "cell_type": "code",
   "execution_count": 9,
   "metadata": {},
   "outputs": [
    {
     "name": "stdout",
     "output_type": "stream",
     "text": [
      "average= -0.100807\n",
      "out= 366.913\n"
     ]
    }
   ],
   "source": [
    "###############################################################################\n",
    "# 1h: Create two tensors x and y of shape 300 from any normal distribution,\n",
    "# as long as they are from the same distribution.\n",
    "# Use tf.cond() to return:\n",
    "# - The mean squared error of (x - y) if the average of all elements in (x - y)\n",
    "#   is negative, or\n",
    "# - The sum of absolute value of all elements in the tensor (x - y) otherwise.\n",
    "# Hint: see the Huber loss function in the lecture slides 3.\n",
    "###############################################################################\n",
    "x = tf.random_normal([300], mean = 5, stddev=1)\n",
    "y = tf.random_normal([300], mean = 5, stddev=1)\n",
    "\n",
    "average = tf.reduce_mean(x-y)\n",
    "print('average=', sess.run(average))\n",
    "def f1(): return tf.reduce_mean(tf.square(x-y))\n",
    "def f2(): return tf.reduce_sum(tf.abs(x-y))\n",
    "\n",
    "out = tf.cond(average < 0, f1, f2 )\n",
    "print('out=', sess.run(out))"
   ]
  },
  {
   "cell_type": "code",
   "execution_count": null,
   "metadata": {},
   "outputs": [],
   "source": []
  }
 ],
 "metadata": {
  "kernelspec": {
   "display_name": "Python 3",
   "language": "python",
   "name": "python3"
  },
  "language_info": {
   "codemirror_mode": {
    "name": "ipython",
    "version": 3
   },
   "file_extension": ".py",
   "mimetype": "text/x-python",
   "name": "python",
   "nbconvert_exporter": "python",
   "pygments_lexer": "ipython3",
   "version": "3.6.3"
  }
 },
 "nbformat": 4,
 "nbformat_minor": 2
}
